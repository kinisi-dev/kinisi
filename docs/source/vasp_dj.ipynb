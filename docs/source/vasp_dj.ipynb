{
 "cells": [
  {
   "cell_type": "markdown",
   "metadata": {
    "tags": []
   },
   "source": [
    "# Jump diffusion coefficient from a VASP file\n",
    "\n",
    "[Previously](./vasp_msd.html), we looked at obtaining accurate estimates for the mean-squared displacement with `kinisi`. \n",
    "Here, we show using the same class to evaluate the diffusion coefficient, using the `kinisi` [methodology](./methodology.html)."
   ]
  },
  {
   "cell_type": "code",
   "execution_count": null,
   "metadata": {
    "tags": []
   },
   "outputs": [],
   "source": [
    "import numpy as np\n",
    "import matplotlib.pyplot as plt\n",
    "import scipp as sc\n",
    "from kinisi.analyze import JumpDiffusionAnalyzer\n",
    "from pymatgen.io.vasp import Xdatcar\n",
    "np.random.seed(42)\n",
    "rng = np.random.RandomState(42)"
   ]
  },
  {
   "cell_type": "markdown",
   "metadata": {},
   "source": [
    "As wil the [previous example](./vasp_d.html), `params` dictionary will describe the details about the simulation."
   ]
  },
  {
   "cell_type": "code",
   "execution_count": null,
   "metadata": {},
   "outputs": [],
   "source": [
    "params = {'specie': 'Li',\n",
    "          'time_step': 2.0 * sc.Unit('fs'),\n",
    "          'step_skip': 50 * sc.Unit('dimensionless'),\n",
    "          'progress': False\n",
    "          }"
   ]
  },
  {
   "cell_type": "markdown",
   "metadata": {},
   "source": [
    "Again, we will add an additional key-value pair to the dictionary. \n",
    "First, we add the number of system particles.\n",
    "The computation of the jump diffusion coefficient requires the mean-squared total displacement to be found. \n",
    "The MSTD is the displacement of the centre of mass of all relevant particles in the simulation, meaning there is just a single \"atom\" or system particle observed. \n",
    "We can improve the statistics on the computation of the jump diffusion coefficient by splitting the simulation into many smaller simulations and finding the MSTD of each. \n",
    "The `system_particles` parameter defines how many times the simulation should be split. "
   ]
  },
  {
   "cell_type": "code",
   "execution_count": null,
   "metadata": {
    "tags": []
   },
   "outputs": [],
   "source": [
    "params['system_particles']= 16"
   ]
  },
  {
   "cell_type": "code",
   "execution_count": null,
   "metadata": {
    "tags": []
   },
   "outputs": [],
   "source": [
    "xd = Xdatcar('./example_XDATCAR.gz')\n",
    "diff = JumpDiffusionAnalyzer.from_xdatcar(xd, **params)"
   ]
  },
  {
   "cell_type": "markdown",
   "metadata": {},
   "source": [
    "In the above cells, we parse and determine the uncertainty on the mean-squared displacement as a function of the timestep. \n",
    "We should visualise this, to check that we are observing diffusion in our material and to determine the timescale at which this diffusion begins. "
   ]
  },
  {
   "cell_type": "code",
   "execution_count": null,
   "metadata": {
    "tags": []
   },
   "outputs": [],
   "source": [
    "fig, ax = plt.subplots()\n",
    "\n",
    "ax.errorbar(diff.dt.values, diff.mstd.values, np.sqrt(diff.mstd.values))\n",
    "ax.set_xlabel(f'Time / {diff.dt.unit}')\n",
    "ax.set_ylabel(f'MSD / {diff.mstd.unit}')\n",
    "ax.set_xlim(0, None)\n",
    "ax.set_ylim(0, None)\n",
    "plt.show()"
   ]
  },
  {
   "cell_type": "markdown",
   "metadata": {},
   "source": [
    "We can visualise this on a log-log scale, which helps to reveal the diffusive regime (the region where the gradient stops changing)."
   ]
  },
  {
   "cell_type": "code",
   "execution_count": null,
   "metadata": {
    "tags": []
   },
   "outputs": [],
   "source": [
    "fix, ax = plt.subplots()\n",
    "\n",
    "ax.errorbar(diff.dt.values, diff.mstd.values, np.sqrt(diff.mstd.values))\n",
    "ax.axvline(2000, color='g')\n",
    "ax.set_xlabel(f'Time / {diff.dt.unit}')\n",
    "ax.set_ylabel(f'MSD / {diff.mstd.unit}')\n",
    "ax.set_yscale('log')\n",
    "ax.set_xscale('log')\n",
    "plt.show()"
   ]
  },
  {
   "cell_type": "markdown",
   "metadata": {},
   "source": [
    "The green line at 4000 fs appears to be a reasonable estimate of the start of the diffusive regime. \n",
    "Therefore, we want to pass `4000 * sc.Units('fs')` as the argument to the diffusion analysis below. \n",
    "At this stage, we pass the `random_state` argument to ensure reproducibility. "
   ]
  },
  {
   "cell_type": "code",
   "execution_count": null,
   "metadata": {
    "tags": []
   },
   "outputs": [],
   "source": [
    "start_of_diffusion = 4000 * sc.Unit('fs')\n",
    "diff.jump_diffusion(start_of_diffusion, progress=False, random_state=rng)"
   ]
  },
  {
   "cell_type": "markdown",
   "metadata": {},
   "source": [
    "This method estimates the correlation matrix between the timesteps and uses posterior sampling to find the self-diffusion coefficient, $D*$ and intercept.\n",
    "We can find the mean of the marginal posterior samples of $D*$: "
   ]
  },
  {
   "cell_type": "code",
   "execution_count": null,
   "metadata": {},
   "outputs": [],
   "source": [
    "diff.D_J"
   ]
  },
  {
   "cell_type": "markdown",
   "metadata": {},
   "source": [
    "Or we can get all of the sampled values from one of these objects. "
   ]
  },
  {
   "cell_type": "code",
   "execution_count": null,
   "metadata": {},
   "outputs": [],
   "source": [
    "diff.D_J.values"
   ]
  },
  {
   "cell_type": "markdown",
   "metadata": {},
   "source": [
    "The same for the intercept can be found from `diff.intercept`. \n",
    "A histogram of the marginal posterior probability distribution for $D*$ can be plotted as shown below. "
   ]
  },
  {
   "cell_type": "markdown",
   "metadata": {
    "tags": []
   },
   "source": [
    "Having completed the analysis, we can save the object for use later (such as downstream by a plotting script). "
   ]
  },
  {
   "cell_type": "markdown",
   "metadata": {
    "nbsphinx": "hidden",
    "tags": []
   },
   "source": [
    "These hidden cells exist to remove any existing `example.hdf` file on builiding."
   ]
  },
  {
   "cell_type": "code",
   "execution_count": null,
   "metadata": {
    "nbsphinx": "hidden",
    "tags": []
   },
   "outputs": [],
   "source": [
    "!rm example.hdf"
   ]
  },
  {
   "cell_type": "code",
   "execution_count": null,
   "metadata": {
    "tags": []
   },
   "outputs": [],
   "source": [
    "diff.to_hdf5('example.hdf')"
   ]
  },
  {
   "cell_type": "markdown",
   "metadata": {},
   "source": [
    "The data is saved in a HDF5 file format which helps us efficiently store our data. \n",
    "We can then load the data with the following class method. "
   ]
  },
  {
   "cell_type": "code",
   "execution_count": null,
   "metadata": {
    "tags": []
   },
   "outputs": [],
   "source": [
    "loaded_diff = JumpDiffusionAnalyzer.from_hdf5('example.hdf')"
   ]
  },
  {
   "cell_type": "markdown",
   "metadata": {},
   "source": [
    "We can plot the data with the credible intervals from the $D$ and $D_{\\text{offset}}$ distribution."
   ]
  },
  {
   "cell_type": "code",
   "execution_count": null,
   "metadata": {
    "tags": []
   },
   "outputs": [],
   "source": [
    "credible_intervals = [[16, 84], [2.5, 97.5], [0.15, 99.85]]\n",
    "alpha = [0.6, 0.4, 0.2]\n",
    "\n",
    "fig, ax = plt.subplots()\n",
    "ax.plot(loaded_diff.dt.values, loaded_diff.mstd.values, 'k-')\n",
    "for i, ci in enumerate(credible_intervals):\n",
    "    ax.fill_between(loaded_diff.dt.values,\n",
    "                     *np.percentile(loaded_diff.distributions, ci, axis=1),\n",
    "                     alpha=alpha[i],\n",
    "                     color='#0173B2',\n",
    "                     lw=0)\n",
    "ax.set_xlabel(f'Time / {diff.dt.unit}')\n",
    "ax.set_ylabel(f'MSD / {diff.mstd.unit}')\n",
    "ax.set_xlim(0, None)\n",
    "ax.set_ylim(0, None)\n",
    "plt.show()"
   ]
  },
  {
   "cell_type": "markdown",
   "metadata": {},
   "source": [
    "Additionally, we can visualise the distribution of the diffusion coefficient that has been determined."
   ]
  },
  {
   "cell_type": "code",
   "execution_count": null,
   "metadata": {
    "tags": []
   },
   "outputs": [],
   "source": [
    "fig, ax = plt.subplots()\n",
    "\n",
    "ax.hist(loaded_diff.D_J.values, density=True)\n",
    "ax.axvline(sc.mean(loaded_diff.D_J).value, c='k')\n",
    "ax.set_xlabel(f'D* / {loaded_diff.D_J.unit}')\n",
    "ax.set_ylabel(f'p(D*) / {(1 / loaded_diff.D_J.unit).unit}')\n",
    "plt.show()"
   ]
  },
  {
   "cell_type": "markdown",
   "metadata": {},
   "source": [
    "Or the joint probability distribution for the diffusion coefficient and intercept."
   ]
  },
  {
   "cell_type": "code",
   "execution_count": null,
   "metadata": {},
   "outputs": [],
   "source": [
    "from corner import corner"
   ]
  },
  {
   "cell_type": "code",
   "execution_count": null,
   "metadata": {},
   "outputs": [],
   "source": [
    "corner(np.array([i.values for i in loaded_diff.flatchain.values()]).T, \n",
    "       labels=[' / '.join([k, str(v.unit)]) for k, v in loaded_diff.flatchain.items()])\n",
    "plt.show()"
   ]
  }
 ],
 "metadata": {
  "kernelspec": {
   "display_name": "kinisi-dev",
   "language": "python",
   "name": "python3"
  },
  "language_info": {
   "codemirror_mode": {
    "name": "ipython",
    "version": 3
   },
   "file_extension": ".py",
   "mimetype": "text/x-python",
   "name": "python",
   "nbconvert_exporter": "python",
   "pygments_lexer": "ipython3",
   "version": "3.11.13"
  }
 },
 "nbformat": 4,
 "nbformat_minor": 4
}
